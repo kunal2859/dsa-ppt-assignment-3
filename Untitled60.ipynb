{
 "cells": [
  {
   "cell_type": "code",
   "execution_count": 17,
   "id": "230b6a0d",
   "metadata": {},
   "outputs": [
    {
     "data": {
      "text/plain": [
       "2"
      ]
     },
     "execution_count": 17,
     "metadata": {},
     "output_type": "execute_result"
    }
   ],
   "source": [
    "def closestSum(nums,target):\n",
    "    closest=1000000\n",
    "    nums.sort()\n",
    "    L=[]\n",
    "    for i in range(len(nums)-2):\n",
    "        l,r=i+1,len(nums)-1\n",
    "        while l<r:\n",
    "            Sum=nums[i]+nums[l]+nums[r]\n",
    "            L.append(Sum)\n",
    "            if Sum<target:\n",
    "                l+=1\n",
    "            else:\n",
    "                r-=1\n",
    "            if abs(Sum-target)<abs(closest-target):\n",
    "                closest=Sum\n",
    "    return closest\n",
    "\n",
    "nums=[-1,2,1,-4]\n",
    "target=1\n",
    "closestSum(nums,target)"
   ]
  },
  {
   "cell_type": "code",
   "execution_count": 18,
   "id": "545f326d",
   "metadata": {},
   "outputs": [
    {
     "data": {
      "text/plain": [
       "{(-2, -1, 1, 2), (-2, 0, 0, 2), (-1, 0, 0, 1)}"
      ]
     },
     "execution_count": 18,
     "metadata": {},
     "output_type": "execute_result"
    }
   ],
   "source": [
    "def quadruplets(nums,target):\n",
    "    ans = set()\n",
    "    nums.sort()\n",
    "    for i in range(len(nums)):\n",
    "        for j in range(i+1,len(nums)):\n",
    "            k,l = j+1,len(nums)-1\n",
    "            while k<l:\n",
    "                s = nums[i]+nums[j]+nums[k]+nums[l]\n",
    "                if s == target:\n",
    "                    ans.add((nums[i],nums[j],nums[k],nums[l]))\n",
    "                    l-=1\n",
    "                    k+=1\n",
    "                elif s > target:\n",
    "                    l-=1\n",
    "                else:\n",
    "                    k+=1\n",
    "\n",
    "    return ans\n",
    "\n",
    "nums=[1,0,-1,0,-2,2]\n",
    "target=0\n",
    "quadruplets(nums,target)"
   ]
  },
  {
   "cell_type": "code",
   "execution_count": 19,
   "id": "8fc8e052",
   "metadata": {},
   "outputs": [],
   "source": [
    "def reverse(nums, start):\n",
    "    i, j = start, len(nums) - 1\n",
    "    while i < j:\n",
    "        nums[i], nums[j] = nums[j], nums[i]\n",
    "        i += 1\n",
    "        j -= 1\n",
    "def next_permutation(nums):\n",
    "    i = len(nums) - 2\n",
    "    while i >= 0 and nums[i + 1] <= nums[i]:\n",
    "        i -= 1\n",
    "    if i >= 0:\n",
    "        j = len(nums) - 1\n",
    "        while nums[j] <= nums[i]:\n",
    "            j -= 1\n",
    "        nums[i], nums[j] = nums[j], nums[i]\n",
    "    reverse(nums, i + 1)\n",
    "\n",
    "nums=[1,2,3]\n",
    "next_permutation(nums)"
   ]
  },
  {
   "cell_type": "code",
   "execution_count": 20,
   "id": "023c35d8",
   "metadata": {},
   "outputs": [
    {
     "name": "stdout",
     "output_type": "stream",
     "text": [
      "2\n"
     ]
    }
   ],
   "source": [
    "def binarySearch(nums,target):\n",
    "    i=0\n",
    "    j=len(nums)-1\n",
    "    while i<=j:\n",
    "        mid=i+(j-i)//2\n",
    "        if target>nums[mid]:\n",
    "            i=mid+1\n",
    "        elif target<nums[mid]:\n",
    "            j=mid-1\n",
    "        else:\n",
    "            return mid\n",
    "    return i\n",
    "\n",
    "nums=[1,3,5,6]\n",
    "target=5\n",
    "print(binarySearch(nums,target))"
   ]
  },
  {
   "cell_type": "code",
   "execution_count": 21,
   "id": "2b2e9cd8",
   "metadata": {},
   "outputs": [
    {
     "data": {
      "text/plain": [
       "[1, 2, 4]"
      ]
     },
     "execution_count": 21,
     "metadata": {},
     "output_type": "execute_result"
    }
   ],
   "source": [
    "def addOne(nums):\n",
    "    s=\"\"\n",
    "    for i in nums:\n",
    "        s+=str(i)\n",
    "    res=str(int(s)+1)\n",
    "    return [int(res[i]) for i in range(len(res))]\n",
    "\n",
    "nums=[1,2,3]\n",
    "addOne(nums)"
   ]
  },
  {
   "cell_type": "code",
   "execution_count": 22,
   "id": "4e1291ee",
   "metadata": {},
   "outputs": [
    {
     "data": {
      "text/plain": [
       "1"
      ]
     },
     "execution_count": 22,
     "metadata": {},
     "output_type": "execute_result"
    }
   ],
   "source": [
    "def findUnique(nums):\n",
    "    res = nums[0]\n",
    "    for i in range(1,len(nums)):\n",
    "        res = res ^ nums[i]\n",
    "    return res\n",
    "  \n",
    "nums = [2,2,1]\n",
    "findUnique(nums)"
   ]
  },
  {
   "cell_type": "code",
   "execution_count": 23,
   "id": "538fa4d2",
   "metadata": {},
   "outputs": [
    {
     "data": {
      "text/plain": [
       "False"
      ]
     },
     "execution_count": 23,
     "metadata": {},
     "output_type": "execute_result"
    }
   ],
   "source": [
    "def sort_list(intervals):\n",
    "    for i in range(len(intervals)):\n",
    "        for j in range(len(intervals)-i-1):\n",
    "            if intervals[j][1]>intervals[j+1][1]:\n",
    "                temp=intervals[j]\n",
    "                intervals[j]=intervals[j+1]\n",
    "                intervals[j+1]=temp\n",
    "def canAttendMeetings(intervals):\n",
    "    for i in range(len(intervals)-1):\n",
    "        for j in range(1):\n",
    "            if intervals[i][j+1]>intervals[i+1][j]:\n",
    "                return False\n",
    "    return True\n",
    "\n",
    "intervals = [[0,5],[6,10],[9,13]]\n",
    "canAttendMeetings(intervals)"
   ]
  }
 ],
 "metadata": {
  "kernelspec": {
   "display_name": "Python 3 (ipykernel)",
   "language": "python",
   "name": "python3"
  },
  "language_info": {
   "codemirror_mode": {
    "name": "ipython",
    "version": 3
   },
   "file_extension": ".py",
   "mimetype": "text/x-python",
   "name": "python",
   "nbconvert_exporter": "python",
   "pygments_lexer": "ipython3",
   "version": "3.9.13"
  }
 },
 "nbformat": 4,
 "nbformat_minor": 5
}
